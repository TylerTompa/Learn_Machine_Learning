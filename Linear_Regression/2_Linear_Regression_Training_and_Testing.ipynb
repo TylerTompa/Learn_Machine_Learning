{
 "cells": [
  {
   "cell_type": "markdown",
   "metadata": {},
   "source": [
    "# Linear Regression: Features and Labels\n",
    "## Sources: \n",
    "1. <a href=\"https://pythonprogramming.net/training-testing-machine-learning-tutorial/\">Python Programming, Data Analysis, Machine Learning, Practical Machine Learning with Python: Regression - Training and Testing</a>"
   ]
  },
  {
   "cell_type": "markdown",
   "metadata": {},
   "source": [
    "In the previous notebook, we learned what linear regression is, and how to begin preparing a dataset for a linear regression machine learning model, by learning about features and labels.  In this notebook, we will import the csv we left off with into a dataframe, and continue building our machine learning model."
   ]
  },
  {
   "cell_type": "markdown",
   "metadata": {},
   "source": [
    "### NumPy \n",
    "\n",
    "We are ready to move on to the actual machine learning part, but before we do, we must import NumPy.   The scikit-learn library is built on NumPy, and therefore works with NumPy arrays."
   ]
  },
  {
   "cell_type": "code",
   "execution_count": 6,
   "metadata": {},
   "outputs": [],
   "source": [
    "# Import dependencies\n",
    "import pandas as pd\n",
    "import numpy as np\n",
    "\n",
    "from sklearn import preprocessing, svm\n",
    "from sklearn.model_selection import cross_validate\n",
    "from sklearn.linear_model import LinearRegression"
   ]
  },
  {
   "cell_type": "code",
   "execution_count": 8,
   "metadata": {},
   "outputs": [
    {
     "name": "stdout",
     "output_type": "stream",
     "text": [
      "   Adj. Close  High_Low_Volatility_Percent  Daily_Percent_Change  Adj. Volume  \\\n",
      "0   50.322842                     8.441017              0.324968   44659000.0   \n",
      "1   54.322689                     8.537313              7.227007   22834300.0   \n",
      "2   54.869377                     4.062357             -1.227880   18256100.0   \n",
      "3   52.597363                     7.753210             -5.726357   15247300.0   \n",
      "4   53.164113                     3.966115              1.183658    9188600.0   \n",
      "\n",
      "    Forecast  \n",
      "0  69.078238  \n",
      "1  67.839414  \n",
      "2  68.912727  \n",
      "3  70.668146  \n",
      "4  71.219849  \n"
     ]
    }
   ],
   "source": [
    "# Define file path to data,\n",
    "# and import data into dataframe\n",
    "import os\n",
    "data_file_path = os.path.join(\"data\", \"googl_stock_data_features_and_label.csv\")\n",
    "googl_stock_data_features_and_label = pd.read_csv(data_file_path)\n",
    "\n",
    "# Preview dataframe\n",
    "print(googl_stock_data_features_and_label.head())"
   ]
  },
  {
   "cell_type": "code",
   "execution_count": null,
   "metadata": {},
   "outputs": [],
   "source": []
  }
 ],
 "metadata": {
  "kernelspec": {
   "display_name": "Python 3",
   "language": "python",
   "name": "python3"
  },
  "language_info": {
   "codemirror_mode": {
    "name": "ipython",
    "version": 3
   },
   "file_extension": ".py",
   "mimetype": "text/x-python",
   "name": "python",
   "nbconvert_exporter": "python",
   "pygments_lexer": "ipython3",
   "version": "3.7.3"
  }
 },
 "nbformat": 4,
 "nbformat_minor": 2
}
