{
 "cells": [
  {
   "cell_type": "markdown",
   "metadata": {},
   "source": [
    "# Linear Regression: Predicting and Forecasting\n",
    "## Sources: \n",
    "1. <a href=\"https://pythonprogramming.net/forecasting-predicting-machine-learning-tutorial/\" target=\"_blank\">Python Programming: Regression - Forecasting and Predicting</a>"
   ]
  },
  {
   "cell_type": "markdown",
   "metadata": {},
   "source": [
    "In the previous notebooks, we learned what linear regression is, as well as how to train and test out data.  In this notebook, we will use our trained model to predict new values and forecast out into the future."
   ]
  },
  {
   "cell_type": "code",
   "execution_count": 1,
   "metadata": {},
   "outputs": [],
   "source": [
    "# Import dependencies\n",
    "import pandas as pd\n",
    "import numpy as np\n",
    "\n",
    "from sklearn import preprocessing\n",
    "from sklearn.model_selection import train_test_split\n",
    "from sklearn.linear_model import LinearRegression"
   ]
  },
  {
   "cell_type": "code",
   "execution_count": 2,
   "metadata": {},
   "outputs": [
    {
     "name": "stdout",
     "output_type": "stream",
     "text": [
      "   Adj. Close  High_Low_Volatility_Percent  Daily_Percent_Change  Adj. Volume  \\\n",
      "0   50.322842                     8.441017              0.324968   44659000.0   \n",
      "1   54.322689                     8.537313              7.227007   22834300.0   \n",
      "2   54.869377                     4.062357             -1.227880   18256100.0   \n",
      "3   52.597363                     7.753210             -5.726357   15247300.0   \n",
      "4   53.164113                     3.966115              1.183658    9188600.0   \n",
      "\n",
      "    Forecast  \n",
      "0  69.078238  \n",
      "1  67.839414  \n",
      "2  68.912727  \n",
      "3  70.668146  \n",
      "4  71.219849  \n"
     ]
    }
   ],
   "source": [
    "# Import data\n",
    "import os\n",
    "data_file_path = os.path.join(\"Data\",\"stock_data.csv\")\n",
    "\n",
    "stock_data = pd.read_csv(data_file_path)\n",
    "print(stock_data.head())"
   ]
  },
  {
   "cell_type": "code",
   "execution_count": 3,
   "metadata": {},
   "outputs": [],
   "source": [
    "# Define features\n",
    "X = np.array(stock_data.drop([\"Forecast\"], 1))\n",
    "\n",
    "# Define label\n",
    "y = np.array(stock_data[\"Forecast\"])"
   ]
  },
  {
   "cell_type": "code",
   "execution_count": 4,
   "metadata": {},
   "outputs": [],
   "source": [
    "# Scale features\n",
    "X = preprocessing.scale(X)"
   ]
  },
  {
   "cell_type": "code",
   "execution_count": 5,
   "metadata": {},
   "outputs": [],
   "source": [
    "# Define the number of days out we want to forecast\n",
    "# In this case, want to forecast out 1% of the dataframe\n",
    "import math\n",
    "forecast_out = math.ceil(0.01*len(stock_data))\n",
    "\n",
    "# Only include values up until the row before the Forecast values become null\n",
    "# or rather, exclude the last 1% of values\n",
    "# Recall that when specifying a range,\n",
    "# Python excludes the last value\n",
    "X = X[:-forecast_out]\n",
    "y = y[:-forecast_out]"
   ]
  },
  {
   "cell_type": "code",
   "execution_count": 6,
   "metadata": {},
   "outputs": [
    {
     "name": "stdout",
     "output_type": "stream",
     "text": [
      "Length of features: 3389\n",
      "Length of label: 3389\n"
     ]
    }
   ],
   "source": [
    "# Confirm features and labels are the same length\n",
    "length_of_features = len(X)\n",
    "length_of_label = len(y)\n",
    "\n",
    "print(f\"Length of features: {length_of_features}\")\n",
    "print(f\"Length of label: {length_of_label}\")"
   ]
  },
  {
   "cell_type": "code",
   "execution_count": 7,
   "metadata": {},
   "outputs": [],
   "source": [
    "# Define training and testing sets\n",
    "X_train, X_test, y_train, y_test = train_test_split(X, y, test_size=0.2)"
   ]
  },
  {
   "cell_type": "code",
   "execution_count": 8,
   "metadata": {},
   "outputs": [],
   "source": [
    "# Define which classification algorithm we are using\n",
    "classifier = LinearRegression()"
   ]
  },
  {
   "cell_type": "code",
   "execution_count": 9,
   "metadata": {},
   "outputs": [
    {
     "data": {
      "text/plain": [
       "LinearRegression(copy_X=True, fit_intercept=True, n_jobs=None, normalize=False)"
      ]
     },
     "execution_count": 9,
     "metadata": {},
     "output_type": "execute_result"
    }
   ],
   "source": [
    "# Fit- or train- the classifier\n",
    "classifier.fit(X_train, y_train)"
   ]
  },
  {
   "cell_type": "code",
   "execution_count": 10,
   "metadata": {},
   "outputs": [
    {
     "name": "stdout",
     "output_type": "stream",
     "text": [
      "0.9788244499714819\n"
     ]
    }
   ],
   "source": [
    "# Print the saccuracy of the classifier\n",
    "print(classifier.score(X_test, y_test))"
   ]
  },
  {
   "cell_type": "markdown",
   "metadata": {},
   "source": [
    "### Note!\n",
    "\n",
    "Recall that we engineered the label column- or the Forecast column- by shifting the values in the Adj. Close column up 35 values.  This would mean that the last 35 rows in the Forecast column have no value.  We will show this more clearly by looking at the last 37 rows of the dataframe."
   ]
  },
  {
   "cell_type": "code",
   "execution_count": 11,
   "metadata": {},
   "outputs": [
    {
     "name": "stdout",
     "output_type": "stream",
     "text": [
      "      Adj. Close  High_Low_Volatility_Percent  Daily_Percent_Change  \\\n",
      "3387     1119.20                     1.811604             -0.729098   \n",
      "3388     1068.76                     5.512236             -2.893850   \n",
      "3389     1084.43                     5.569849              4.879205   \n",
      "3390     1055.41                     3.025734             -2.724499   \n",
      "3391     1005.60                     5.851043             -5.120439   \n",
      "3392     1043.43                     5.488465              1.710726   \n",
      "3393     1054.56                     1.920631             -0.199684   \n",
      "3394     1054.14                     1.365911              0.394286   \n",
      "3395     1072.70                     2.445228              1.743304   \n",
      "3396     1091.36                     2.517733              0.730075   \n",
      "3397     1095.50                     1.535431              0.193894   \n",
      "3398     1103.59                     2.411927              0.991068   \n",
      "3399     1113.75                     2.590496              0.419259   \n",
      "3400     1109.90                     1.837760             -0.828292   \n",
      "3401     1128.09                     1.854859              0.842973   \n",
      "3402     1143.70                     1.315813              1.046066   \n",
      "3403     1117.51                     2.458833             -2.289936   \n",
      "3404     1103.92                     2.234814             -1.611408   \n",
      "3405     1071.41                     4.120717             -3.436559   \n",
      "3406     1084.14                     3.502490              2.472637   \n",
      "3407     1094.76                     2.696149              1.542486   \n",
      "3408     1100.90                     1.016903             -0.108883   \n",
      "3409     1115.04                     2.412126              2.033272   \n",
      "3410     1129.38                     1.274615              1.090226   \n",
      "3411     1160.84                     2.354777              1.872751   \n",
      "3412     1165.93                     1.635611              0.075533   \n",
      "3413     1139.91                     3.827882             -2.723945   \n",
      "3414     1148.89                     1.524051              0.269681   \n",
      "3415     1150.61                     2.363383              0.090469   \n",
      "3416     1134.42                     2.249505             -1.811572   \n",
      "3417     1100.07                     2.796349             -1.582630   \n",
      "3418     1095.80                     2.136878             -0.236708   \n",
      "3419     1094.00                     1.976619              0.130884   \n",
      "3420     1053.15                     3.265882             -2.487014   \n",
      "3421     1026.55                     4.089299             -2.360729   \n",
      "3422     1054.09                     4.818025              0.332191   \n",
      "3423     1006.94                     6.707965             -5.353887   \n",
      "\n",
      "      Adj. Volume  Forecast  \n",
      "3387    5798880.0   1054.09  \n",
      "3388    3742469.0   1006.94  \n",
      "3389    3732527.0       NaN  \n",
      "3390    2544683.0       NaN  \n",
      "3391    3067173.0       NaN  \n",
      "3392    4436032.0       NaN  \n",
      "3393    2796258.0       NaN  \n",
      "3394    1574121.0       NaN  \n",
      "3395    2029979.0       NaN  \n",
      "3396    1806206.0       NaN  \n",
      "3397    1971928.0       NaN  \n",
      "3398    1646405.0       NaN  \n",
      "3399    2024534.0       NaN  \n",
      "3400    1386115.0       NaN  \n",
      "3401    1234539.0       NaN  \n",
      "3402    1489118.0       NaN  \n",
      "3403    2094863.0       NaN  \n",
      "3404    2431023.0       NaN  \n",
      "3405    2766856.0       NaN  \n",
      "3406    2508145.0       NaN  \n",
      "3407    1432369.0       NaN  \n",
      "3408    1169068.0       NaN  \n",
      "3409    1537429.0       NaN  \n",
      "3410    1510478.0       NaN  \n",
      "3411    2070174.0       NaN  \n",
      "3412    2129297.0       NaN  \n",
      "3413    2129435.0       NaN  \n",
      "3414    2033697.0       NaN  \n",
      "3415    1623868.0       NaN  \n",
      "3416    2654602.0       NaN  \n",
      "3417    3076349.0       NaN  \n",
      "3418    2709310.0       NaN  \n",
      "3419    1990515.0       NaN  \n",
      "3420    3418154.0       NaN  \n",
      "3421    2413517.0       NaN  \n",
      "3422    3272409.0       NaN  \n",
      "3423    2940957.0       NaN  \n"
     ]
    }
   ],
   "source": [
    "# Preview last 35 columns of data\n",
    "print(stock_data.tail(37))"
   ]
  },
  {
   "cell_type": "markdown",
   "metadata": {},
   "source": [
    "Consequently, this is what we shall predict- the missing values in the forecast column."
   ]
  },
  {
   "cell_type": "code",
   "execution_count": 12,
   "metadata": {},
   "outputs": [],
   "source": [
    "# Define what we want to forecast\n",
    "# Recall that X is defined as: X = X[:-forecast_out]\n",
    "# We will therefore forecast out using \"the rest\" of the features,\n",
    "# That is, X was defined as every row up to ath row,\n",
    "# where a is defined as the ceiling function of 1% of the dataframe,\n",
    "# and X_forecast will include every row from the ath row to the last.\n",
    "X_forecast = X[-forecast_out:]\n",
    "# X_forecast = preprocessing.scale(X_forecast)"
   ]
  },
  {
   "cell_type": "markdown",
   "metadata": {},
   "source": [
    "We are now ready to forecast out into the future.  To do this, we will simply pass the X_forecast array into the .predict() method of our classifier, and we are done."
   ]
  },
  {
   "cell_type": "code",
   "execution_count": 13,
   "metadata": {},
   "outputs": [],
   "source": [
    "# Make prediction(s)\n",
    "forecast = classifier.predict(X_forecast)"
   ]
  },
  {
   "cell_type": "code",
   "execution_count": 14,
   "metadata": {
    "scrolled": false
   },
   "outputs": [
    {
     "name": "stdout",
     "output_type": "stream",
     "text": [
      "[1076.57287662 1090.61977004 1104.2035149  1099.19428287 1092.81783544\n",
      " 1090.76596048 1089.53485531 1085.59696428 1079.85319233 1075.35776371\n",
      " 1073.65667413 1091.40360671 1109.9156776  1115.75703649 1130.21637988\n",
      " 1134.57708342 1132.80434879 1130.55226921 1132.28730017 1149.30074482\n",
      " 1149.11600154 1158.73571266 1155.45568558 1163.8016024  1183.07953264\n",
      " 1196.65251156 1190.39525969 1202.51014293 1206.96330521 1206.72017811\n",
      " 1197.52468873 1202.33766941 1200.96588195 1136.53635362 1080.49291103]\n"
     ]
    }
   ],
   "source": [
    "# Preview forecasted values\n",
    "print(forecast)"
   ]
  },
  {
   "cell_type": "markdown",
   "metadata": {},
   "source": [
    "The values printed above are the predicted values for the next $a$ days, where $a$ is 1% of the length of the dataframe.  Using Linear Regression, we have forecasted out future stock prices.  We will now visualize this forecast.\n",
    "\n",
    "Recall that the last $a$ rows of the Forecast column in our stock_data dataframe are NaN values, where $a$ is 1% of the length of the dataframe.  We will therefore fill these values in with our forecast array."
   ]
  },
  {
   "cell_type": "code",
   "execution_count": 15,
   "metadata": {},
   "outputs": [
    {
     "name": "stdout",
     "output_type": "stream",
     "text": [
      "      Adj. Close  High_Low_Volatility_Percent  Daily_Percent_Change  \\\n",
      "3387     1119.20                     1.811604             -0.729098   \n",
      "3388     1068.76                     5.512236             -2.893850   \n",
      "3389     1084.43                     5.569849              4.879205   \n",
      "3390     1055.41                     3.025734             -2.724499   \n",
      "3391     1005.60                     5.851043             -5.120439   \n",
      "3392     1043.43                     5.488465              1.710726   \n",
      "3393     1054.56                     1.920631             -0.199684   \n",
      "3394     1054.14                     1.365911              0.394286   \n",
      "3395     1072.70                     2.445228              1.743304   \n",
      "3396     1091.36                     2.517733              0.730075   \n",
      "3397     1095.50                     1.535431              0.193894   \n",
      "3398     1103.59                     2.411927              0.991068   \n",
      "3399     1113.75                     2.590496              0.419259   \n",
      "3400     1109.90                     1.837760             -0.828292   \n",
      "3401     1128.09                     1.854859              0.842973   \n",
      "3402     1143.70                     1.315813              1.046066   \n",
      "3403     1117.51                     2.458833             -2.289936   \n",
      "3404     1103.92                     2.234814             -1.611408   \n",
      "3405     1071.41                     4.120717             -3.436559   \n",
      "3406     1084.14                     3.502490              2.472637   \n",
      "3407     1094.76                     2.696149              1.542486   \n",
      "3408     1100.90                     1.016903             -0.108883   \n",
      "3409     1115.04                     2.412126              2.033272   \n",
      "3410     1129.38                     1.274615              1.090226   \n",
      "3411     1160.84                     2.354777              1.872751   \n",
      "3412     1165.93                     1.635611              0.075533   \n",
      "3413     1139.91                     3.827882             -2.723945   \n",
      "3414     1148.89                     1.524051              0.269681   \n",
      "3415     1150.61                     2.363383              0.090469   \n",
      "3416     1134.42                     2.249505             -1.811572   \n",
      "3417     1100.07                     2.796349             -1.582630   \n",
      "3418     1095.80                     2.136878             -0.236708   \n",
      "3419     1094.00                     1.976619              0.130884   \n",
      "3420     1053.15                     3.265882             -2.487014   \n",
      "3421     1026.55                     4.089299             -2.360729   \n",
      "3422     1054.09                     4.818025              0.332191   \n",
      "3423     1006.94                     6.707965             -5.353887   \n",
      "\n",
      "      Adj. Volume  Forecast  \n",
      "3387    5798880.0   1054.09  \n",
      "3388    3742469.0   1006.94  \n",
      "3389    3732527.0       NaN  \n",
      "3390    2544683.0       NaN  \n",
      "3391    3067173.0       NaN  \n",
      "3392    4436032.0       NaN  \n",
      "3393    2796258.0       NaN  \n",
      "3394    1574121.0       NaN  \n",
      "3395    2029979.0       NaN  \n",
      "3396    1806206.0       NaN  \n",
      "3397    1971928.0       NaN  \n",
      "3398    1646405.0       NaN  \n",
      "3399    2024534.0       NaN  \n",
      "3400    1386115.0       NaN  \n",
      "3401    1234539.0       NaN  \n",
      "3402    1489118.0       NaN  \n",
      "3403    2094863.0       NaN  \n",
      "3404    2431023.0       NaN  \n",
      "3405    2766856.0       NaN  \n",
      "3406    2508145.0       NaN  \n",
      "3407    1432369.0       NaN  \n",
      "3408    1169068.0       NaN  \n",
      "3409    1537429.0       NaN  \n",
      "3410    1510478.0       NaN  \n",
      "3411    2070174.0       NaN  \n",
      "3412    2129297.0       NaN  \n",
      "3413    2129435.0       NaN  \n",
      "3414    2033697.0       NaN  \n",
      "3415    1623868.0       NaN  \n",
      "3416    2654602.0       NaN  \n",
      "3417    3076349.0       NaN  \n",
      "3418    2709310.0       NaN  \n",
      "3419    1990515.0       NaN  \n",
      "3420    3418154.0       NaN  \n",
      "3421    2413517.0       NaN  \n",
      "3422    3272409.0       NaN  \n",
      "3423    2940957.0       NaN  \n"
     ]
    }
   ],
   "source": [
    "# Recall that the a rows of the Forecast column in our stock_data dataframe are NaN values,\n",
    "# where a is 1% of the length of the dataframe\n",
    "print(stock_data.tail(forecast_out+2))"
   ]
  },
  {
   "cell_type": "code",
   "execution_count": 16,
   "metadata": {},
   "outputs": [
    {
     "name": "stdout",
     "output_type": "stream",
     "text": [
      "      Adj. Close  High_Low_Volatility_Percent  Daily_Percent_Change  \\\n",
      "3387     1119.20                     1.811604             -0.729098   \n",
      "3388     1068.76                     5.512236             -2.893850   \n",
      "3389     1084.43                     5.569849              4.879205   \n",
      "3390     1055.41                     3.025734             -2.724499   \n",
      "3391     1005.60                     5.851043             -5.120439   \n",
      "3392     1043.43                     5.488465              1.710726   \n",
      "3393     1054.56                     1.920631             -0.199684   \n",
      "3394     1054.14                     1.365911              0.394286   \n",
      "3395     1072.70                     2.445228              1.743304   \n",
      "3396     1091.36                     2.517733              0.730075   \n",
      "3397     1095.50                     1.535431              0.193894   \n",
      "3398     1103.59                     2.411927              0.991068   \n",
      "3399     1113.75                     2.590496              0.419259   \n",
      "3400     1109.90                     1.837760             -0.828292   \n",
      "3401     1128.09                     1.854859              0.842973   \n",
      "3402     1143.70                     1.315813              1.046066   \n",
      "3403     1117.51                     2.458833             -2.289936   \n",
      "3404     1103.92                     2.234814             -1.611408   \n",
      "3405     1071.41                     4.120717             -3.436559   \n",
      "3406     1084.14                     3.502490              2.472637   \n",
      "3407     1094.76                     2.696149              1.542486   \n",
      "3408     1100.90                     1.016903             -0.108883   \n",
      "3409     1115.04                     2.412126              2.033272   \n",
      "3410     1129.38                     1.274615              1.090226   \n",
      "3411     1160.84                     2.354777              1.872751   \n",
      "3412     1165.93                     1.635611              0.075533   \n",
      "3413     1139.91                     3.827882             -2.723945   \n",
      "3414     1148.89                     1.524051              0.269681   \n",
      "3415     1150.61                     2.363383              0.090469   \n",
      "3416     1134.42                     2.249505             -1.811572   \n",
      "3417     1100.07                     2.796349             -1.582630   \n",
      "3418     1095.80                     2.136878             -0.236708   \n",
      "3419     1094.00                     1.976619              0.130884   \n",
      "3420     1053.15                     3.265882             -2.487014   \n",
      "3421     1026.55                     4.089299             -2.360729   \n",
      "3422     1054.09                     4.818025              0.332191   \n",
      "3423     1006.94                     6.707965             -5.353887   \n",
      "\n",
      "      Adj. Volume     Forecast  \n",
      "3387    5798880.0  1054.090000  \n",
      "3388    3742469.0  1006.940000  \n",
      "3389    3732527.0  1076.572877  \n",
      "3390    2544683.0  1090.619770  \n",
      "3391    3067173.0  1104.203515  \n",
      "3392    4436032.0  1099.194283  \n",
      "3393    2796258.0  1092.817835  \n",
      "3394    1574121.0  1090.765960  \n",
      "3395    2029979.0  1089.534855  \n",
      "3396    1806206.0  1085.596964  \n",
      "3397    1971928.0  1079.853192  \n",
      "3398    1646405.0  1075.357764  \n",
      "3399    2024534.0  1073.656674  \n",
      "3400    1386115.0  1091.403607  \n",
      "3401    1234539.0  1109.915678  \n",
      "3402    1489118.0  1115.757036  \n",
      "3403    2094863.0  1130.216380  \n",
      "3404    2431023.0  1134.577083  \n",
      "3405    2766856.0  1132.804349  \n",
      "3406    2508145.0  1130.552269  \n",
      "3407    1432369.0  1132.287300  \n",
      "3408    1169068.0  1149.300745  \n",
      "3409    1537429.0  1149.116002  \n",
      "3410    1510478.0  1158.735713  \n",
      "3411    2070174.0  1155.455686  \n",
      "3412    2129297.0  1163.801602  \n",
      "3413    2129435.0  1183.079533  \n",
      "3414    2033697.0  1196.652512  \n",
      "3415    1623868.0  1190.395260  \n",
      "3416    2654602.0  1202.510143  \n",
      "3417    3076349.0  1206.963305  \n",
      "3418    2709310.0  1206.720178  \n",
      "3419    1990515.0  1197.524689  \n",
      "3420    3418154.0  1202.337669  \n",
      "3421    2413517.0  1200.965882  \n",
      "3422    3272409.0  1136.536354  \n",
      "3423    2940957.0  1080.492911  \n"
     ]
    }
   ],
   "source": [
    "# Fill in NaN values with forecast array\n",
    "stock_data[\"Forecast\"][-forecast_out:] = forecast\n",
    "\n",
    "# Preview tail of dataframe,\n",
    "# to confirm NaN values have been filled\n",
    "print(stock_data.tail(forecast_out+2))"
   ]
  },
  {
   "cell_type": "code",
   "execution_count": 17,
   "metadata": {},
   "outputs": [
    {
     "data": {
      "text/plain": [
       "<function matplotlib.pyplot.show(*args, **kw)>"
      ]
     },
     "execution_count": 17,
     "metadata": {},
     "output_type": "execute_result"
    },
    {
     "data": {
      "image/png": "[encoded data removed]",
      "text/plain": [
       "<Figure size 432x288 with 1 Axes>"
      ]
     },
     "metadata": {
      "needs_background": "light"
     },
     "output_type": "display_data"
    }
   ],
   "source": [
    "# import plotting library and visualize past data,\n",
    "# along with forecasted data\n",
    "%matplotlib inline\n",
    "import matplotlib.pyplot as plt\n",
    "plt.plot(stock_data[\"Forecast\"])\n",
    "plt.title(\"Past and Forecasted GOOGL Stock Prices\\n\")\n",
    "plt.xlabel(\"Day\")\n",
    "plt.ylabel(\"Price\")\n",
    "plt.show"
   ]
  },
  {
   "cell_type": "markdown",
   "metadata": {},
   "source": [
    "As can be seen in the plot above, we can view the forecasted values, but we can't tell where the past data actually stops, and the forecasted values begin.  For situations such as this, it may be beneficial to use past data and forecasted data as separate datasets, while still plotting on the same graph."
   ]
  },
  {
   "cell_type": "code",
   "execution_count": 18,
   "metadata": {},
   "outputs": [],
   "source": [
    "# Create new dataframe,\n",
    "# containing only the last a rows of the original,\n",
    "# where a is 1% of the length of the dataframe\n",
    "stock_data_forecast = stock_data[-forecast_out:].copy()"
   ]
  },
  {
   "cell_type": "code",
   "execution_count": 19,
   "metadata": {
    "scrolled": false
   },
   "outputs": [
    {
     "data": {
      "image/png": "[encoded data removed]",
      "text/plain": [
       "<Figure size 1800x720 with 1 Axes>"
      ]
     },
     "metadata": {
      "needs_background": "light"
     },
     "output_type": "display_data"
    }
   ],
   "source": [
    "plt.figure(figsize=(25,10))\n",
    "plt.plot(stock_data[\"Forecast\"][:-forecast_out],label=\"Past Data\")\n",
    "plt.plot(stock_data_forecast[\"Forecast\"], label=\"Forecasted Data\")\n",
    "plt.legend()\n",
    "plt.xlabel(\"Day\")\n",
    "plt.ylabel(\"Price\")\n",
    "plt.title(\"Past and Forecasted GOOGL Stock Prices\\n\")\n",
    "plt.show()"
   ]
  },
  {
   "cell_type": "markdown",
   "metadata": {},
   "source": [
    "### ATTENTION!\n",
    "\n",
    "We have a unique identifier column filled with consecutive integers, which you could think of as representing which day the stock price is for.  We have not accounted for weekends, holidays, or any other day whereon stocks would not be traded.  If this were a serious machine learning forecast, we would need to take these days into consideration.  However, the main point of this project is to learn the fundamentals of machine learning- not build a perfect model, which goes beyond just macine learning- so we will skip this consideration.  In a real-world project though, you will need to account for such considerations if you want an honest and accurate machine learning model."
   ]
  }
 ],
 "metadata": {
  "kernelspec": {
   "display_name": "Python 3",
   "language": "python",
   "name": "python3"
  },
  "language_info": {
   "codemirror_mode": {
    "name": "ipython",
    "version": 3
   },
   "file_extension": ".py",
   "mimetype": "text/x-python",
   "name": "python",
   "nbconvert_exporter": "python",
   "pygments_lexer": "ipython3",
   "version": "3.7.3"
  }
 },
 "nbformat": 4,
 "nbformat_minor": 2
}
