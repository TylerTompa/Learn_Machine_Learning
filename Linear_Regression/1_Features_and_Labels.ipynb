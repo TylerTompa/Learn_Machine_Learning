{
 "cells": [
  {
   "cell_type": "markdown",
   "metadata": {},
   "source": [
    "# Linear Regression: Features and Labels\n",
    "## Sources: \n",
    "1. <a href=\"https://pythonprogramming.net/regression-introduction-machine-learning-tutorial/\" target=\"_blank\">Python Programming: Regression - Intro and Data</a>\n",
    "2. <a href=\"https://pythonprogramming.net/features-labels-machine-learning-tutorial/\" target=\"_blank\">Python Programming: Regression - Features and Labels</a>"
   ]
  },
  {
   "cell_type": "markdown",
   "metadata": {},
   "source": [
    "A fundamental technique in Machine Learning is <em>Linear Regression</em>.  The idea of linear regression is to find a <em>best-fit line</em> that is as close to as much of the data as possible, so that given an input value $x$, you can predict the output value $y$.  Recall that the equation of a line is $y=mx+b$.\n",
    "\n",
    "<img src=\"../Images/linear-regression-line.png\" alt=\"best-fit line\">\n",
    "Image source: [1]"
   ]
  },
  {
   "cell_type": "code",
   "execution_count": 1,
   "metadata": {},
   "outputs": [],
   "source": [
    "# Import dependencies\n",
    "import pandas as pd\n",
    "import numpy as np\n",
    "\n",
    "# import quandl, the data source we use\n",
    "import quandl"
   ]
  },
  {
   "cell_type": "code",
   "execution_count": 2,
   "metadata": {},
   "outputs": [],
   "source": [
    "# Raise errors instead of give warnings\n",
    "pd.set_option(\"mode.chained_assignment\", \"raise\")"
   ]
  },
  {
   "cell_type": "code",
   "execution_count": 3,
   "metadata": {
    "scrolled": true
   },
   "outputs": [
    {
     "name": "stdout",
     "output_type": "stream",
     "text": [
      "              Open    High     Low    Close      Volume  Ex-Dividend  \\\n",
      "Date                                                                   \n",
      "2004-08-19  100.01  104.06   95.96  100.335  44659000.0          0.0   \n",
      "2004-08-20  101.01  109.08  100.50  108.310  22834300.0          0.0   \n",
      "2004-08-23  110.76  113.48  109.05  109.400  18256100.0          0.0   \n",
      "2004-08-24  111.24  111.60  103.57  104.870  15247300.0          0.0   \n",
      "2004-08-25  104.76  108.00  103.88  106.000   9188600.0          0.0   \n",
      "\n",
      "            Split Ratio  Adj. Open  Adj. High   Adj. Low  Adj. Close  \\\n",
      "Date                                                                   \n",
      "2004-08-19          1.0  50.159839  52.191109  48.128568   50.322842   \n",
      "2004-08-20          1.0  50.661387  54.708881  50.405597   54.322689   \n",
      "2004-08-23          1.0  55.551482  56.915693  54.693835   54.869377   \n",
      "2004-08-24          1.0  55.792225  55.972783  51.945350   52.597363   \n",
      "2004-08-25          1.0  52.542193  54.167209  52.100830   53.164113   \n",
      "\n",
      "            Adj. Volume  \n",
      "Date                     \n",
      "2004-08-19   44659000.0  \n",
      "2004-08-20   22834300.0  \n",
      "2004-08-23   18256100.0  \n",
      "2004-08-24   15247300.0  \n",
      "2004-08-25    9188600.0  \n"
     ]
    }
   ],
   "source": [
    "# Define stock_symbol here-\n",
    "# the stock we want to use for this project.\n",
    "stock_symbol = \"GOOGL\"\n",
    "\n",
    "# Use quandl to get stock data\n",
    "stock_data_full = quandl.get(f\"WIKI/{stock_symbol}\")\n",
    "\n",
    "# Preview stock\n",
    "print(stock_data_full.head())"
   ]
  },
  {
   "cell_type": "code",
   "execution_count": 4,
   "metadata": {},
   "outputs": [
    {
     "name": "stdout",
     "output_type": "stream",
     "text": [
      "Open           0\n",
      "High           0\n",
      "Low            0\n",
      "Close          0\n",
      "Volume         0\n",
      "Ex-Dividend    0\n",
      "Split Ratio    0\n",
      "Adj. Open      0\n",
      "Adj. High      0\n",
      "Adj. Low       0\n",
      "Adj. Close     0\n",
      "Adj. Volume    0\n",
      "dtype: int64\n"
     ]
    }
   ],
   "source": [
    "# Check for missing values\n",
    "print(stock_data_full.isna().sum())"
   ]
  },
  {
   "cell_type": "markdown",
   "metadata": {},
   "source": [
    "Often when working with machine learning, we have more data than we need; once we get to the \"training\" part, this can cause issues, as too much unnecessary data could just confuse or bias the model.\n",
    "\n",
    "In this case, we don't need both regular prices as well as adjusted prices.  We will proceed with only the adjusted prices."
   ]
  },
  {
   "cell_type": "code",
   "execution_count": 5,
   "metadata": {},
   "outputs": [
    {
     "name": "stdout",
     "output_type": "stream",
     "text": [
      "            Adj. Open  Adj. Close  Adj. High   Adj. Low  Adj. Volume\n",
      "Date                                                                \n",
      "2004-08-19  50.159839   50.322842  52.191109  48.128568   44659000.0\n",
      "2004-08-20  50.661387   54.322689  54.708881  50.405597   22834300.0\n",
      "2004-08-23  55.551482   54.869377  56.915693  54.693835   18256100.0\n",
      "2004-08-24  55.792225   52.597363  55.972783  51.945350   15247300.0\n",
      "2004-08-25  52.542193   53.164113  54.167209  52.100830    9188600.0\n"
     ]
    }
   ],
   "source": [
    "# Create new dataframe with only relevant data\n",
    "stock_data = stock_data_full[[\"Adj. Open\", \\\n",
    "                          \"Adj. Close\", \\\n",
    "                          \"Adj. High\", \\\n",
    "                          \"Adj. Low\", \\\n",
    "                          \"Adj. Volume\"]].copy()\n",
    "# Preview new dataframe with only relevant data\n",
    "print(stock_data.head())"
   ]
  },
  {
   "cell_type": "markdown",
   "metadata": {},
   "source": [
    "A very important thing to keep in mind when working with data is how meaningful your data is.  Having a large abundance of data is not necessarily a good thing, if it's not meaningful data.\n",
    "\n",
    "In this case, we have open and close price, which we will use to calculate daily percent change, as well as high and low price, which we will use to calculate daily high-low volatilty."
   ]
  },
  {
   "cell_type": "code",
   "execution_count": 6,
   "metadata": {},
   "outputs": [
    {
     "name": "stdout",
     "output_type": "stream",
     "text": [
      "            Adj. Close  High_Low_Volatility_Percent  Daily_Percent_Change  \\\n",
      "Date                                                                        \n",
      "2004-08-19   50.322842                     8.441017              0.324968   \n",
      "2004-08-20   54.322689                     8.537313              7.227007   \n",
      "2004-08-23   54.869377                     4.062357             -1.227880   \n",
      "2004-08-24   52.597363                     7.753210             -5.726357   \n",
      "2004-08-25   53.164113                     3.966115              1.183658   \n",
      "\n",
      "            Adj. Volume  \n",
      "Date                     \n",
      "2004-08-19   44659000.0  \n",
      "2004-08-20   22834300.0  \n",
      "2004-08-23   18256100.0  \n",
      "2004-08-24   15247300.0  \n",
      "2004-08-25    9188600.0  \n"
     ]
    }
   ],
   "source": [
    "# Calculuate daily percent change and make new column therefrom\n",
    "stock_data[\"Daily_Percent_Change\"] = \\\n",
    "                                     ((stock_data[\"Adj. Close\"] \\\n",
    "                                     - stock_data[\"Adj. Open\"]) \\\n",
    "                                     / stock_data[\"Adj. Open\"] \\\n",
    "                                     * 100)\n",
    "# Calculate high-low volatility percent and make new column therefrom\n",
    "stock_data[\"High_Low_Volatility_Percent\"] = \\\n",
    "                                            ((stock_data[\"Adj. High\"] \\\n",
    "                                            - stock_data[\"Adj. Low\"]) \\\n",
    "                                            / stock_data[\"Adj. Low\"] \\\n",
    "                                            * 100)\n",
    "\n",
    "stock_data = stock_data[[\"Adj. Close\", \"High_Low_Volatility_Percent\", \"Daily_Percent_Change\", \"Adj. Volume\"]].copy()\n",
    "# Preview dataframe now with more meaningful columns\n",
    "print(stock_data.head())"
   ]
  },
  {
   "cell_type": "markdown",
   "metadata": {},
   "source": [
    "When working on a machine learning project, we must determine what it actually is we want to predict, then determine whether that is even possible or logical.  In this case, we use the Adj. Close value to calculate the Daily_Percent_Change column.  It therefore wouldn't make sense to try to predict the Daily_Percent_Change using the Adj. Close.\n",
    "\n",
    "Our label would therefore be Adj. Close, or rather- the Adj. Close value $x$ days into the future."
   ]
  },
  {
   "cell_type": "code",
   "execution_count": 7,
   "metadata": {},
   "outputs": [],
   "source": [
    "# We define the label here\n",
    "# In this case, the label is a forecast of the Adj. Close price\n",
    "forecast_column = \"Adj. Close\""
   ]
  },
  {
   "cell_type": "code",
   "execution_count": 8,
   "metadata": {},
   "outputs": [
    {
     "name": "stdout",
     "output_type": "stream",
     "text": [
      "Adj. Close                     0\n",
      "High_Low_Volatility_Percent    0\n",
      "Daily_Percent_Change           0\n",
      "Adj. Volume                    0\n",
      "dtype: int64\n"
     ]
    }
   ],
   "source": [
    "# Check for missing data\n",
    "print(stock_data.isna().sum())"
   ]
  },
  {
   "cell_type": "code",
   "execution_count": 9,
   "metadata": {},
   "outputs": [],
   "source": [
    "# Define the number of days out we want to forecast\n",
    "# In this case, want to forecast out 1% of the dataframe\n",
    "import math\n",
    "forecast_out = math.ceil(0.01*len(stock_data))"
   ]
  },
  {
   "cell_type": "code",
   "execution_count": 10,
   "metadata": {},
   "outputs": [],
   "source": [
    "# Add label- forecast column\n",
    "stock_data[\"Forecast\"] = stock_data[forecast_column].shift(-forecast_out)"
   ]
  },
  {
   "cell_type": "markdown",
   "metadata": {},
   "source": [
    "#### As a reminder,\n",
    "##### using the .shift() method with a positive number shifts each row up by one;\n",
    "##### using the .shift() method with a negative number therefore shifts each row down by one"
   ]
  },
  {
   "cell_type": "code",
   "execution_count": 11,
   "metadata": {},
   "outputs": [
    {
     "name": "stdout",
     "output_type": "stream",
     "text": [
      "            Adj. Close  shift_positive_3  shift_negative_2\n",
      "Date                                                      \n",
      "2004-08-19   50.322842               NaN         54.869377\n",
      "2004-08-20   54.322689               NaN         52.597363\n",
      "2004-08-23   54.869377               NaN         53.164113\n",
      "2004-08-24   52.597363         50.322842         54.122070\n",
      "2004-08-25   53.164113         54.322689         53.239345\n"
     ]
    }
   ],
   "source": [
    "# Create copy of dataframe\n",
    "stock_data_features_and_label_shifts = stock_data.copy()\n",
    "\n",
    "# Shift forecast column in positive direction (rows go down)\n",
    "stock_data_features_and_label_shifts[\"shift_positive_3\"] = \\\n",
    "stock_data_features_and_label_shifts[forecast_column].shift(3)\n",
    "\n",
    "# Shift forecase  column in negative direction (rows go up)\n",
    "stock_data_features_and_label_shifts[\"shift_negative_2\"] = \\\n",
    "stock_data_features_and_label_shifts[forecast_column].shift(-2)\n",
    "\n",
    "# Observe the shift_positive_3 column;\n",
    "# the value that was in the first column has been shifted down three rows,\n",
    "# and is now in the third row\n",
    "\n",
    "# Observe the shift_negative_2 column;\n",
    "# the value that was in the third column has been shifted up rows,\n",
    "# and is now in the first row\n",
    "print(stock_data_features_and_label_shifts[[forecast_column, \"shift_positive_3\", \"shift_negative_2\"]].head(5))"
   ]
  },
  {
   "cell_type": "markdown",
   "metadata": {},
   "source": [
    "By shifting each column $x$ days in a negative direction- where $x$ is 1% of the length of the dataframe (or 1% of the total number of days)- the value that was in row $a$, is now in row $b$, where $b = a - x$.  This will make the \"label\" of each row the price $x$ days into the future."
   ]
  },
  {
   "cell_type": "code",
   "execution_count": 12,
   "metadata": {},
   "outputs": [
    {
     "name": "stdout",
     "output_type": "stream",
     "text": [
      "35\n"
     ]
    }
   ],
   "source": [
    "# To make this easier to understand,\n",
    "# we will see what 1% of the dataframe actually is\n",
    "print(forecast_out)"
   ]
  },
  {
   "cell_type": "code",
   "execution_count": 13,
   "metadata": {
    "scrolled": true
   },
   "outputs": [
    {
     "name": "stdout",
     "output_type": "stream",
     "text": [
      "            Adj. Close   Forecast\n",
      "Date                             \n",
      "2004-08-19   50.322842  69.078238\n",
      "2004-08-20   54.322689  67.839414\n",
      "2004-08-23   54.869377  68.912727\n",
      "2004-08-24   52.597363  70.668146\n",
      "2004-08-25   53.164113  71.219849\n"
     ]
    }
   ],
   "source": [
    "# 1% of the total number of days is 35 days\n",
    "# So each field in the Forecast column is what the stock price will be in 35 days\n",
    "# Our machine learning algorithm will use each feature,\n",
    "# to build a model which will be able to predict the stock price 35 days into the future\n",
    "print(stock_data[[forecast_column, \"Forecast\"]].head())"
   ]
  },
  {
   "cell_type": "markdown",
   "metadata": {},
   "source": [
    "To limit each notebook to a particular topic, we will export our current dataframe (including all features) as a csv, and move on to the next step in a new notebook."
   ]
  },
  {
   "cell_type": "code",
   "execution_count": 14,
   "metadata": {},
   "outputs": [],
   "source": [
    "# Define export file path\n",
    "import os\n",
    "export_file_path = os.path.join(\"data\", \"stock_data.csv\")\n",
    "\n",
    "# Export stock_data_features_and_label as a csv\n",
    "stock_data.to_csv(export_file_path, index=False, header=True)"
   ]
  }
 ],
 "metadata": {
  "kernelspec": {
   "display_name": "Python 3",
   "language": "python",
   "name": "python3"
  },
  "language_info": {
   "codemirror_mode": {
    "name": "ipython",
    "version": 3
   },
   "file_extension": ".py",
   "mimetype": "text/x-python",
   "name": "python",
   "nbconvert_exporter": "python",
   "pygments_lexer": "ipython3",
   "version": "3.7.3"
  }
 },
 "nbformat": 4,
 "nbformat_minor": 2
}
